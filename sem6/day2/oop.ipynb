{
 "cells": [
  {
   "cell_type": "code",
   "execution_count": 2,
   "metadata": {},
   "outputs": [],
   "source": [
    "class Human:\n",
    "    def birth(self,gender):\n",
    "        self.gender=gender\n",
    "    def naming(self,name):\n",
    "        self.name=name \n",
    "\n",
    "h1=Human()\n",
    "\n",
    "    \n"
   ]
  },
  {
   "cell_type": "code",
   "execution_count": 3,
   "metadata": {},
   "outputs": [
    {
     "data": {
      "text/plain": [
       "'female'"
      ]
     },
     "execution_count": 3,
     "metadata": {},
     "output_type": "execute_result"
    }
   ],
   "source": [
    "h1.birth(\"female\")\n",
    "h1.gender"
   ]
  },
  {
   "cell_type": "code",
   "execution_count": 4,
   "metadata": {},
   "outputs": [
    {
     "data": {
      "text/plain": [
       "'sanika'"
      ]
     },
     "execution_count": 4,
     "metadata": {},
     "output_type": "execute_result"
    }
   ],
   "source": [
    "h1.naming(\"sanika\")\n",
    "h1.name"
   ]
  },
  {
   "cell_type": "code",
   "execution_count": 5,
   "metadata": {},
   "outputs": [],
   "source": [
    "class Human:\n",
    "    def birth(self,gender):#ref of object who is calling\n",
    "        self.gender=gender#self.XXXX is on object\n",
    "        print(\"ref:\",id(self))\n",
    "    def naming(self,name):\n",
    "        self.name=name\n",
    "        print(\"ref:\",id(self))"
   ]
  },
  {
   "cell_type": "code",
   "execution_count": 6,
   "metadata": {},
   "outputs": [
    {
     "name": "stdout",
     "output_type": "stream",
     "text": [
      "ref: 2900731485488\n"
     ]
    }
   ],
   "source": [
    "h1=Human()\n",
    "h2=Human()\n",
    "id(h1)\n",
    "h1.birth(\"female\")"
   ]
  },
  {
   "cell_type": "code",
   "execution_count": 7,
   "metadata": {},
   "outputs": [
    {
     "name": "stdout",
     "output_type": "stream",
     "text": [
      "Area is: 475.0506000000001\n",
      "Area is: 452.15999999999997\n"
     ]
    }
   ],
   "source": [
    "class Circle:\n",
    "    def set_r(self,r):\n",
    "        self.r=r\n",
    "    def print_area(self):\n",
    "        print(\"Area is:\",(3.14*self.r*self.r))\n",
    "\n",
    "c1=Circle()\n",
    "c2=Circle()\n",
    "\n",
    "c1.set_r(12.3)\n",
    "c1.print_area()\n",
    "c2.set_r(float(input(\"Enter r:\")))\n",
    "c2.print_area()"
   ]
  },
  {
   "cell_type": "code",
   "execution_count": 8,
   "metadata": {},
   "outputs": [
    {
     "name": "stdout",
     "output_type": "stream",
     "text": [
      "ref: 2900731486160\n",
      "ref: 2900731486160\n",
      "hi i am amar, a male\n"
     ]
    }
   ],
   "source": [
    "class Human:\n",
    "    def birth(self,gender):#ref of object who is calling\n",
    "        self.gender=gender#self.XXXX is on object\n",
    "        print(\"ref:\",id(self))\n",
    "    def naming(self,name):\n",
    "        self.name=name\n",
    "        print(\"ref:\",id(self))\n",
    "    def intro(self):\n",
    "        print(f\"hi i am {self.name}, a {self.gender}\")\n",
    "\n",
    "h=Human()\n",
    "\n",
    "h.birth(\"male\")\n",
    "h.naming(\"amar\")\n",
    "\n",
    "h.intro()"
   ]
  },
  {
   "cell_type": "code",
   "execution_count": 9,
   "metadata": {},
   "outputs": [
    {
     "name": "stdout",
     "output_type": "stream",
     "text": [
      "ref: 2900731486160\n"
     ]
    },
    {
     "data": {
      "text/plain": [
       "'abc'"
      ]
     },
     "execution_count": 9,
     "metadata": {},
     "output_type": "execute_result"
    }
   ],
   "source": [
    "h.naming(\"abc\")\n",
    "h.name //not private or protected"
   ]
  },
  {
   "cell_type": "code",
   "execution_count": 15,
   "metadata": {},
   "outputs": [
    {
     "name": "stdout",
     "output_type": "stream",
     "text": [
      "ref: 2900731489520\n",
      "ref: 2900731489520\n",
      "hi i am aro, a male\n"
     ]
    }
   ],
   "source": [
    "class Human:\n",
    "    def birth(self,gender):#ref of object who is calling\n",
    "        self.__gender=gender#self.XXXX is on object\n",
    "        print(\"ref:\",id(self))\n",
    "    def naming(self,name):\n",
    "        self.__name=name\n",
    "        print(\"ref:\",id(self))\n",
    "    def intro(self):\n",
    "        print(f\"hi i am {self.__name}, a {self.__gender}\")\n",
    "\n",
    "\n",
    "h=Human()\n",
    "\n",
    "h.birth(\"male\")\n",
    "h.naming(\"aro\")\n",
    "\n",
    "h.intro()\n"
   ]
  },
  {
   "cell_type": "code",
   "execution_count": 17,
   "metadata": {},
   "outputs": [
    {
     "name": "stdout",
     "output_type": "stream",
     "text": [
      "hi i am aro, a male\n"
     ]
    }
   ],
   "source": [
    "h.__name=\"asdf\"\n",
    "h.intro()"
   ]
  },
  {
   "cell_type": "code",
   "execution_count": 18,
   "metadata": {},
   "outputs": [
    {
     "name": "stdout",
     "output_type": "stream",
     "text": [
      "10+20=30\n"
     ]
    }
   ],
   "source": [
    "#create a simple class calculor\n",
    "#methods add,sub,div.multiply\n",
    "#format .add(10,20) 10+20 = 30\n",
    "\n",
    "class Cal:\n",
    "\n",
    "    def add(self,no1,no2):\n",
    "        self.no1=no1\n",
    "        self.no2=no2\n",
    "        print(f\"{self.no1}+{self.no2}={self.no1+self.no2}\")\n",
    "\n",
    "\n",
    "obj=Cal()\n",
    "obj.add(10,20)\n"
   ]
  },
  {
   "cell_type": "code",
   "execution_count": 24,
   "metadata": {},
   "outputs": [],
   "source": [
    "#create class human stores name,age,gender\n",
    "#methods to set details,and print\n",
    "#additional method called eval(): will create vote if >=18\n",
    "                                  #will create play <18\n",
    "                                  #this will be stored in todo #variable\n",
    "class Human:\n",
    "    def set(self,name,age,gender):#ref of object who is calling\n",
    "        self.__gender=gender\n",
    "        self.__name=name\n",
    "        self.__age=age\n",
    "        print(\"Data set\")\n",
    "        self.eval()\n",
    "    def eval(self):\n",
    "        if self.__age<18:\n",
    "            self.__todo=\"play\"\n",
    "        else:\n",
    "            self.__todo=\"vote\"\n",
    "        print(\"eval done todo created\")\n",
    "    def print_Human(self):\n",
    "        print(f\"Name:{self.__name}\\nGender:{self.__gender}\\n Age:{self.__age}\\n todo:{self.__todo}\")"
   ]
  },
  {
   "cell_type": "code",
   "execution_count": 25,
   "metadata": {},
   "outputs": [
    {
     "name": "stdout",
     "output_type": "stream",
     "text": [
      "Data set\n",
      "eval done todo created\n",
      "Name:abcd\n",
      "Gender:m\n",
      " Age:36\n",
      " todo:vote\n",
      "Data set\n",
      "eval done todo created\n",
      "Name:abcd\n",
      "Gender:m\n",
      " Age:3\n",
      " todo:play\n"
     ]
    }
   ],
   "source": [
    "h=Human()\n",
    "h.set(\"abcd\",36,\"m\")\n",
    "h.print_Human()\n",
    "#h.print()--name:abcd gender:m age:36 todo:vote\n",
    "h.set(\"abcd\",3,\"m\")\n",
    "h.print_Human()\n",
    "#h.print()--name:abcd gender:m age:36 todo:play\n"
   ]
  },
  {
   "cell_type": "code",
   "execution_count": 27,
   "metadata": {},
   "outputs": [
    {
     "name": "stdout",
     "output_type": "stream",
     "text": [
      "Roll no alloted: 1\n"
     ]
    }
   ],
   "source": [
    "class Student:\n",
    "    rollno=0\n",
    "    def __init__(self,name,gender):\n",
    "        self.__gender=gender\n",
    "        self.__name=name\n",
    "        Student.rollno+=1\n",
    "        print(f\"Roll no alloted: {Student.rollno}\")\n",
    "\n",
    "s1=Student(\"abcd\",\"12\")\n"
   ]
  },
  {
   "cell_type": "code",
   "execution_count": 28,
   "metadata": {},
   "outputs": [
    {
     "name": "stdout",
     "output_type": "stream",
     "text": [
      "Roll no alloted: 2\n"
     ]
    }
   ],
   "source": [
    "s1=Student(\"abcd\",\"12\")"
   ]
  }
 ],
 "metadata": {
  "kernelspec": {
   "display_name": "Python 3",
   "language": "python",
   "name": "python3"
  },
  "language_info": {
   "codemirror_mode": {
    "name": "ipython",
    "version": 3
   },
   "file_extension": ".py",
   "mimetype": "text/x-python",
   "name": "python",
   "nbconvert_exporter": "python",
   "pygments_lexer": "ipython3",
   "version": "3.13.1"
  }
 },
 "nbformat": 4,
 "nbformat_minor": 2
}
