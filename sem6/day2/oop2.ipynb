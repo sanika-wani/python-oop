{
 "cells": [
  {
   "cell_type": "code",
   "execution_count": null,
   "metadata": {},
   "outputs": [],
   "source": [
    "#inheritance\n",
    "#taking properties from preexisting\n",
    "\n",
    "#adv: reuse,standardization\n",
    "#types:\n",
    "#1. single inheritance\n",
    "#2. multiple inheritance\n",
    "#3. multilevel inheritance\n",
    "#4. hierarchical inheritance\n",
    "#5. hybrid inheritance\n",
    "#6. interface inheritance\n",
    "\n",
    "#ADT\n",
    "#Abstract Data Type\n",
    "#data type that is defined by its behavior\n",
    "#ADT is a collection of data and a set of operations that can be performed on that data\n",
    "#ADT is a high-level abstraction that hides the implementation details and provides a simple interface to interact\n",
    "#with the data\n",
    "#ADT is a fundamental concept in computer science and is used to design and implement complex systems\n",
    "#ADT is a blueprint for creating objects that can perform specific tasks\n",
    "#ADT is a way to define a data type that can be used to create multiple objects that\n",
    "#have the same behavior\n",
    "\n"
   ]
  },
  {
   "cell_type": "code",
   "execution_count": null,
   "metadata": {},
   "outputs": [],
   "source": []
  }
 ],
 "metadata": {
  "language_info": {
   "name": "python"
  }
 },
 "nbformat": 4,
 "nbformat_minor": 2
}
