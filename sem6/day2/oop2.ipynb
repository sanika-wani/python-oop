{
 "cells": [
  {
   "cell_type": "code",
   "execution_count": null,
   "metadata": {},
   "outputs": [],
   "source": [
    "#inheritance\n",
    "#taking properties from preexisting\n",
    "\n",
    "#adv: reuse,standardization\n",
    "#types:\n",
    "#1. single inheritance\n",
    "#2. multiple inheritance\n",
    "#3. multilevel inheritance\n",
    "#4. hierarchical inheritance\n",
    "#5. hybrid inheritance\n",
    "#6. interface inheritance\n",
    "\n",
    "#ADT\n",
    "#Abstract Data Type\n",
    "#data type that is defined by its behavior\n",
    "#ADT is a collection of data and a set of operations that can be performed on that data\n",
    "#ADT is a high-level abstraction that hides the implementation details and provides a simple interface to interact\n",
    "#with the data\n",
    "#ADT is a fundamental concept in computer science and is used to design and implement complex systems\n",
    "#ADT is a blueprint for creating objects that can perform specific tasks\n",
    "#ADT is a way to define a data type that can be used to create multiple objects that\n",
    "#have the same behavior\n",
    "\n"
   ]
  },
  {
   "cell_type": "code",
   "execution_count": 4,
   "metadata": {},
   "outputs": [],
   "source": [
    "class stack:\n",
    "    def create_stack(self,size):\n",
    "        self.Maxsize = size\n",
    "        self.s = []#size 0\n",
    "        self.tos=-1\n",
    "        for i in range(0,size,1):\n",
    "            self.s.append(0)\n",
    "        print(f\"stack of {size} created and init\")\n",
    "    def print_stack(self):\n",
    "        print(self.s)"
   ]
  },
  {
   "cell_type": "code",
   "execution_count": 5,
   "metadata": {},
   "outputs": [
    {
     "name": "stdout",
     "output_type": "stream",
     "text": [
      "stack of 12 created and init\n"
     ]
    }
   ],
   "source": [
    "obj = stack()\n",
    "obj.create_stack(12)"
   ]
  },
  {
   "cell_type": "code",
   "execution_count": 6,
   "metadata": {},
   "outputs": [],
   "source": [
    "class Stack:\n",
    "    def create_stack(self,size):\n",
    "        self.Maxsize=size\n",
    "        self.s=[]#size 0\n",
    "        self.tos=-1\n",
    "        for i in range(0,size,1):\n",
    "            self.s.append(0)\n",
    "        print(f\"stack of {size} created and init\")\n",
    "    def is_full(self):\n",
    "        if self.tos==self.Maxsize-1:\n",
    "            return True#is full\n",
    "        else:\n",
    "            return False#not full\n",
    "    def push(self,e):\n",
    "        if self.is_full()!=True:#if not full\n",
    "            self.tos+=1#tos+1\n",
    "            self.s[self.tos]=e\n",
    "            print(\"Element pushed\")\n",
    "        else:\n",
    "            print(\"Stack Full\")\n",
    "    def is_empty(self):\n",
    "        if self.tos==-1:\n",
    "            return True#is full\n",
    "        else:\n",
    "            return False#not full\n",
    "    def pop(self):\n",
    "        if self.is_empty()!=True:#if not full\n",
    "            temp=self.s[self.tos]\n",
    "            self.tos-=1\n",
    "            print(\"Element at peek:\",temp)\n",
    "        else:\n",
    "            print(\"Stack Empty\")\n",
    "    def peek(self):\n",
    "        if self.is_empty()!=True:#if not full\n",
    "            print(\"Element poped:\",self.s[self.tos])\n",
    "        else:\n",
    "            print(\"Stack Empty\")\n",
    "\n",
    "    def print_stack(self):\n",
    "        for i in range(self.tos,-1,-1):\n",
    "            print(self.s[i])\n"
   ]
  },
  {
   "cell_type": "code",
   "execution_count": 7,
   "metadata": {},
   "outputs": [
    {
     "name": "stdout",
     "output_type": "stream",
     "text": [
      "stack of 5 created and init\n"
     ]
    }
   ],
   "source": [
    "obj=Stack()\n",
    "obj.create_stack(5)"
   ]
  },
  {
   "cell_type": "code",
   "execution_count": 8,
   "metadata": {},
   "outputs": [
    {
     "name": "stdout",
     "output_type": "stream",
     "text": [
      "Element pushed\n",
      "Element pushed\n",
      "Element pushed\n",
      "Element pushed\n",
      "Element pushed\n",
      "Stack Full\n",
      "500\n",
      "400\n",
      "300\n",
      "200\n",
      "100\n"
     ]
    }
   ],
   "source": [
    "obj.push(100)\n",
    "obj.push(200)\n",
    "obj.push(300)\n",
    "obj.push(400)\n",
    "obj.push(500)\n",
    "obj.push(420)\n",
    "obj.print_stack()"
   ]
  },
  {
   "cell_type": "code",
   "execution_count": 9,
   "metadata": {},
   "outputs": [
    {
     "name": "stdout",
     "output_type": "stream",
     "text": [
      "Stack created..\n",
      "\n",
      "Stack Operations Menu:\n",
      "1. Push Element\n",
      "2. Pop Element\n",
      "3. Peek Element\n",
      "4. Print Stack\n",
      "0. Exit\n",
      "Element pushed\n",
      "\n",
      "Stack Operations Menu:\n",
      "1. Push Element\n",
      "2. Pop Element\n",
      "3. Peek Element\n",
      "4. Print Stack\n",
      "0. Exit\n",
      "Element at poped: 22\n",
      "\n",
      "Stack Operations Menu:\n",
      "1. Push Element\n",
      "2. Pop Element\n",
      "3. Peek Element\n",
      "4. Print Stack\n",
      "0. Exit\n",
      "Stack Empty\n",
      "\n",
      "Stack Operations Menu:\n",
      "1. Push Element\n",
      "2. Pop Element\n",
      "3. Peek Element\n",
      "4. Print Stack\n",
      "0. Exit\n",
      "Stack Empty\n",
      "\n",
      "Stack Operations Menu:\n",
      "1. Push Element\n",
      "2. Pop Element\n",
      "3. Peek Element\n",
      "4. Print Stack\n",
      "0. Exit\n"
     ]
    },
    {
     "ename": "ValueError",
     "evalue": "invalid literal for int() with base 10: ''",
     "output_type": "error",
     "traceback": [
      "\u001b[1;31m---------------------------------------------------------------------------\u001b[0m",
      "\u001b[1;31mValueError\u001b[0m                                Traceback (most recent call last)",
      "Cell \u001b[1;32mIn[9], line 36\u001b[0m\n\u001b[0;32m     34\u001b[0m \u001b[38;5;28mprint\u001b[39m(\u001b[38;5;124m\"\u001b[39m\u001b[38;5;124m4. Print Stack\u001b[39m\u001b[38;5;124m\"\u001b[39m)\n\u001b[0;32m     35\u001b[0m \u001b[38;5;28mprint\u001b[39m(\u001b[38;5;124m\"\u001b[39m\u001b[38;5;124m0. Exit\u001b[39m\u001b[38;5;124m\"\u001b[39m)\n\u001b[1;32m---> 36\u001b[0m choice \u001b[38;5;241m=\u001b[39m \u001b[38;5;28;43mint\u001b[39;49m\u001b[43m(\u001b[49m\u001b[38;5;28;43minput\u001b[39;49m\u001b[43m(\u001b[49m\u001b[38;5;124;43m\"\u001b[39;49m\u001b[38;5;124;43mEnter your choice: \u001b[39;49m\u001b[38;5;124;43m\"\u001b[39;49m\u001b[43m)\u001b[49m\u001b[43m)\u001b[49m\n\u001b[0;32m     37\u001b[0m \u001b[38;5;28;01mif\u001b[39;00m choice \u001b[38;5;241m==\u001b[39m \u001b[38;5;241m1\u001b[39m:\n\u001b[0;32m     38\u001b[0m     element \u001b[38;5;241m=\u001b[39m \u001b[38;5;28mint\u001b[39m(\u001b[38;5;28minput\u001b[39m(\u001b[38;5;124m\"\u001b[39m\u001b[38;5;124mEnter the element to push: \u001b[39m\u001b[38;5;124m\"\u001b[39m))\n",
      "\u001b[1;31mValueError\u001b[0m: invalid literal for int() with base 10: ''"
     ]
    }
   ],
   "source": [
    "#menu driven\n",
    "class Stack:\n",
    "    def create_stack(self):\n",
    "        self.s=[]#size 0\n",
    "        print(f\"Stack created..\")\n",
    "\n",
    "    def push(self,e):\n",
    "        self.s.append(e)\n",
    "        print(\"Element pushed\")\n",
    "\n",
    "    def pop(self):\n",
    "        if len(self.s)>0:\n",
    "            print(\"Element at poped:\",self.s.pop())\n",
    "        else:\n",
    "            print(\"Stack Empty\")\n",
    "\n",
    "    def peek(self):\n",
    "        if len(self.s)>0:\n",
    "            print(\"Element at peek:\",self.s[-1])\n",
    "        else:\n",
    "            print(\"Stack Empty\")\n",
    "\n",
    "\n",
    "    def print_stack(self):\n",
    "        for i in range(len(self.s)-1,-1,-1):\n",
    "            print(self.s[i])\n",
    "stack = Stack()\n",
    "stack.create_stack()\n",
    "while True:\n",
    "        print(\"\\nStack Operations Menu:\")\n",
    "        print(\"1. Push Element\")\n",
    "        print(\"2. Pop Element\")\n",
    "        print(\"3. Peek Element\")\n",
    "        print(\"4. Print Stack\")\n",
    "        print(\"0. Exit\")\n",
    "        choice = int(input(\"Enter your choice: \"))\n",
    "        if choice == 1:\n",
    "            element = int(input(\"Enter the element to push: \"))\n",
    "            stack.push(element)\n",
    "        elif choice == 2:\n",
    "            stack.pop()\n",
    "        elif choice == 3:\n",
    "            stack.peek()\n",
    "        elif choice == 4:\n",
    "            stack.print_stack()\n",
    "        elif choice == 0:\n",
    "            print(\"Exiting program...\")\n",
    "            break\n",
    "        else:\n",
    "            print(\"Invalid choice! Please try again.\")\n",
    "\n",
    "\n"
   ]
  },
  {
   "cell_type": "code",
   "execution_count": 12,
   "metadata": {},
   "outputs": [
    {
     "name": "stdout",
     "output_type": "stream",
     "text": [
      "Stack created..\n",
      "inaW akinaS"
     ]
    }
   ],
   "source": [
    "#reverse a string using stack\n",
    "class Stack:\n",
    "    def create_stack(self):\n",
    "        self.s=[]\n",
    "        print(f\"Stack created..\")\n",
    "    def push_stack(self,e):\n",
    "        self.s.append(e)\n",
    "    def print_stack(self):\n",
    "        for i in range(len(self.s)-1,-1,-1):\n",
    "            print(self.s[i], end=\"\")\n",
    "        \n",
    "stack = Stack()\n",
    "stack.create_stack()\n",
    "str1=\"Sanika Wani\"\n",
    "for i in str1:\n",
    "    stack.push_stack(i)\n",
    "stack.print_stack()"
   ]
  },
  {
   "cell_type": "code",
   "execution_count": 22,
   "metadata": {},
   "outputs": [
    {
     "name": "stdout",
     "output_type": "stream",
     "text": [
      "Stack created.\n",
      "String is balanced.\n"
     ]
    }
   ],
   "source": [
    "class Stack:\n",
    "    def create_stack(self):\n",
    "        self.s = []\n",
    "        print(\"Stack created.\")\n",
    "\n",
    "    def push_stack(self, e):\n",
    "        self.s.append(e)\n",
    "\n",
    "    def is_empty(self):\n",
    "        return len(self.s) == 0\n",
    "\n",
    "    def pop(self):\n",
    "        if not self.is_empty():\n",
    "            self.s.pop()\n",
    "        else:\n",
    "            print(\"False\")\n",
    "            return False\n",
    "\n",
    "stack = Stack()\n",
    "stack.create_stack()\n",
    "str1 = \"((((((()))))))\"\n",
    "\n",
    "for i in str1:\n",
    "    if i == \"(\":\n",
    "        stack.push_stack(i)\n",
    "    elif i == \")\":\n",
    "        if stack.is_empty():\n",
    "            print(\"False\")\n",
    "            break\n",
    "        else:\n",
    "            stack.pop()\n",
    "else:  # This block runs only if the loop is not terminated by 'break'.\n",
    "    if stack.is_empty():\n",
    "        print(\"String is balanced.\")\n",
    "    else:\n",
    "        print(\"String is not balanced.\")\n",
    "\n",
    "\n",
    "    "
   ]
  }
 ],
 "metadata": {
  "kernelspec": {
   "display_name": "Python 3",
   "language": "python",
   "name": "python3"
  },
  "language_info": {
   "codemirror_mode": {
    "name": "ipython",
    "version": 3
   },
   "file_extension": ".py",
   "mimetype": "text/x-python",
   "name": "python",
   "nbconvert_exporter": "python",
   "pygments_lexer": "ipython3",
   "version": "3.13.1"
  }
 },
 "nbformat": 4,
 "nbformat_minor": 2
}
