{
 "cells": [
  {
   "cell_type": "code",
   "execution_count": null,
   "metadata": {},
   "outputs": [],
   "source": [
    "#inheritance\n",
    "#taking properties from preexisting\n",
    "\n",
    "#adv: reuse,standardization\n",
    "#types:\n",
    "#1. single inheritance\n",
    "#2. multiple inheritance\n",
    "#3. multilevel inheritance\n",
    "#4. hierarchical inheritance\n",
    "#5. hybrid inheritance\n",
    "#6. interface inheritance\n",
    "\n",
    "#ADT\n",
    "#Abstract Data Type\n",
    "#data type that is defined by its behavior\n",
    "#ADT is a collection of data and a set of operations that can be performed on that data\n",
    "#ADT is a high-level abstraction that hides the implementation details and provides a simple interface to interact\n",
    "#with the data\n",
    "#ADT is a fundamental concept in computer science and is used to design and implement complex systems\n",
    "#ADT is a blueprint for creating objects that can perform specific tasks\n",
    "#ADT is a way to define a data type that can be used to create multiple objects that\n",
    "#have the same behavior\n",
    "\n"
   ]
  },
  {
   "cell_type": "code",
   "execution_count": 4,
   "metadata": {},
   "outputs": [],
   "source": [
    "class stack:\n",
    "    def create_stack(self,size):\n",
    "        self.Maxsize = size\n",
    "        self.s = []#size 0\n",
    "        self.tos=-1\n",
    "        for i in range(0,size,1):\n",
    "            self.s.append(0)\n",
    "        print(f\"stack of {size} created and init\")\n",
    "    def print_stack(self):\n",
    "        print(self.s)"
   ]
  },
  {
   "cell_type": "code",
   "execution_count": 5,
   "metadata": {},
   "outputs": [
    {
     "name": "stdout",
     "output_type": "stream",
     "text": [
      "stack of 12 created and init\n"
     ]
    }
   ],
   "source": [
    "obj = stack()\n",
    "obj.create_stack(12)"
   ]
  },
  {
   "cell_type": "code",
   "execution_count": null,
   "metadata": {},
   "outputs": [],
   "source": []
  }
 ],
 "metadata": {
  "kernelspec": {
   "display_name": "Python 3",
   "language": "python",
   "name": "python3"
  },
  "language_info": {
   "codemirror_mode": {
    "name": "ipython",
    "version": 3
   },
   "file_extension": ".py",
   "mimetype": "text/x-python",
   "name": "python",
   "nbconvert_exporter": "python",
   "pygments_lexer": "ipython3",
   "version": "3.13.1"
  }
 },
 "nbformat": 4,
 "nbformat_minor": 2
}
