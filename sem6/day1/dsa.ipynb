{
 "cells": [
  {
   "cell_type": "code",
   "execution_count": 11,
   "metadata": {},
   "outputs": [
    {
     "name": "stdout",
     "output_type": "stream",
     "text": [
      "[20, 30, 40, 50, 60, 10]\n",
      "[30, 40, 50, 60, 10, 20]\n",
      "[40, 50, 60, 10, 20, 30]\n",
      "[50, 60, 10, 20, 30, 40]\n",
      "[60, 10, 20, 30, 40, 50]\n"
     ]
    }
   ],
   "source": [
    "#rotate clockwise n times \n",
    "l=[10,20,30,40,50,60]\n",
    "n=5\n",
    "while n>0:\n",
    "    # e=l.pop(0)\n",
    "    # l.append(e)\n",
    "    l.append(l.pop(0))\n",
    "    print(l)\n",
    "    n=n-1"
   ]
  },
  {
   "cell_type": "code",
   "execution_count": 14,
   "metadata": {},
   "outputs": [
    {
     "name": "stdout",
     "output_type": "stream",
     "text": [
      "444-888-887-666-"
     ]
    }
   ],
   "source": [
    "#all numbers greater than average of the list\n",
    "l=[11,333,444,55,22,66,7,888,887,666]\n",
    "avg = sum(l)/len(l)\n",
    "for i in l:\n",
    "    if i >avg:\n",
    "        print(i,end=\"-\")"
   ]
  },
  {
   "cell_type": "code",
   "execution_count": 1,
   "metadata": {},
   "outputs": [
    {
     "name": "stdout",
     "output_type": "stream",
     "text": [
      "{1: 'one', 2: 'two', 3: 'three'}\n"
     ]
    }
   ],
   "source": [
    "#mapping key value pair \n",
    "mapping= {1:\"one\", 2:\"two\",3:\"three\"}\n",
    "print(mapping)"
   ]
  },
  {
   "cell_type": "code",
   "execution_count": null,
   "metadata": {},
   "outputs": [
    {
     "name": "stdout",
     "output_type": "stream",
     "text": [
      "digits are: \n",
      "1\n",
      "2\n",
      "3\n"
     ]
    }
   ],
   "source": [
    "#read a number print each digit in word\n",
    "# mapping = {1: \"one\", 2: \"two\", 3: \"three\"}\n",
    "# num = input(\"Enter a number: \")\n",
    "# for i in str(num):\n",
    "#     print(mapping[int(i)])\n",
    "\n",
    "mapping = {1: \"one\", 2: \"two\", 3: \"three\",4: \"four\", 5: \"five\", 6: \"six\",7: \"seven\", 8: \"eight\", 9: \"nine\",0: \"zero\"}\n",
    "num = input(\"Enter a number: \")\n",
    "print(\"digits are: \")\n",
    "for i in num:\n",
    "    print(mapping[int(i)])\n"
   ]
  },
  {
   "cell_type": "code",
   "execution_count": 10,
   "metadata": {},
   "outputs": [
    {
     "name": "stdout",
     "output_type": "stream",
     "text": [
      "{'SANIKA': '22'}\n",
      "{'SANIKA': '22'}\n",
      "{'SANIKA': '22', 'WEA': '33'}\n"
     ]
    }
   ],
   "source": [
    "#create a contct dict to read number and name from rthe user and add to comtact\n",
    "contact_dict = {}\n",
    "while True:\n",
    "    name = input(\"Enter your name: \")\n",
    "    number = input(\"Enter your number: \")\n",
    "    contact_dict[name] = number\n",
    "    cont = input(\"Do you want to add more contact? (yes/no): \")\n",
    "    if cont.lower() != \"yes\":\n",
    "        break\n",
    "    print(contact_dict)\n",
    "\n",
    "\n"
   ]
  },
  {
   "cell_type": "code",
   "execution_count": 19,
   "metadata": {},
   "outputs": [
    {
     "name": "stdout",
     "output_type": "stream",
     "text": [
      "\n",
      "Contact Book Menu:\n",
      "1. Add a new record\n",
      "2. Search for a record\n",
      "3. Exit\n",
      "Name: a\n",
      "\n",
      "Contact Book Menu:\n",
      "1. Add a new record\n",
      "2. Search for a record\n",
      "3. Exit\n"
     ]
    }
   ],
   "source": [
    "#Add a new recored, search for a record\n",
    "def add_record():\n",
    "    while True:\n",
    "        name = input(\"Enter your name: \")\n",
    "        number = (input(\"Enter your number: \"))\n",
    "        #nuber should be 10 digit only\n",
    "        if len(number) == 10 and number.isdigit():\n",
    "            contact_dict[int(number)] = name\n",
    "        else:\n",
    "            print(\"Invalid number, please enter 10 digit number only\")\n",
    "            break\n",
    "        contact_dict[number] = name\n",
    "        print(contact_dict)\n",
    "        cont = input(\"Do you want to add more contact? (yes/no): \")\n",
    "        if cont.lower() != \"yes\":\n",
    "            \n",
    "            break\n",
    "        \n",
    "\n",
    "def search_record():\n",
    "  while True:\n",
    "    name = input(\"Enter the number you want to search: \")\n",
    "    if name in contact_dict:\n",
    "        print(f\"Name: {contact_dict[name]}\")\n",
    "    else:\n",
    "        print(\"Number not found\")\n",
    "    cont = input(\"Do you want to search again? (yes/no): \")\n",
    "    if cont.lower() != \"yes\":\n",
    "         break\n",
    "    print(contact_dict)\n",
    "\n",
    "while True:\n",
    "    print(\"\\nContact Book Menu:\")\n",
    "    print(\"1. Add a new record\")\n",
    "    print(\"2. Search for a record\")\n",
    "    print(\"3. Exit\")\n",
    "    choice = input(\"Enter your choice: \")\n",
    "    if choice == \"1\":\n",
    "        add_record()\n",
    "    elif choice ==\"2\":\n",
    "        search_record()\n",
    "    else:\n",
    "        break\n",
    "\n"
   ]
  },
  {
   "cell_type": "code",
   "execution_count": 1,
   "metadata": {},
   "outputs": [
    {
     "name": "stdout",
     "output_type": "stream",
     "text": [
      "The string is a palindrome.\n"
     ]
    }
   ],
   "source": [
    "#check if a string is a palindrome or not\n",
    "word = input(\"Enter a string: \")\n",
    "if word==word[::-1]:\n",
    "    print(\"The string is a palindrome.\")\n",
    "else:\n",
    "    print(\"The string is not a palindrome.\")"
   ]
  },
  {
   "cell_type": "code",
   "execution_count": 6,
   "metadata": {},
   "outputs": [
    {
     "name": "stdout",
     "output_type": "stream",
     "text": [
      "['this', 'is', 'a', 'test', 'line', 'to', 'work']\n",
      " work to line test a is this \n"
     ]
    }
   ],
   "source": [
    "\n",
    "line=\"this is a test line to work\"\n",
    "word_list=line.split()\n",
    "line=\" \"\n",
    "print(word_list)\n",
    "for i in word_list[::-1]:\n",
    "    line+=i+\" \"\n",
    "print(line)"
   ]
  },
  {
   "cell_type": "code",
   "execution_count": 4,
   "metadata": {},
   "outputs": [
    {
     "name": "stdout",
     "output_type": "stream",
     "text": [
      "largest sentence\n"
     ]
    }
   ],
   "source": [
    "line = \"this is a line in a sentence\"\n",
    "largest = \"\"\n",
    "split_line = line.split()\n",
    "for i in split_line:\n",
    "    if len(i) > len(largest):\n",
    "        largest = i\n",
    "print(\"largest word: \", largest)\n",
    "\n"
   ]
  },
  {
   "cell_type": "code",
   "execution_count": null,
   "metadata": {},
   "outputs": [],
   "source": [
    "#alphabetically largest first letter of word \n",
    "line = \"this is a line in a sentence\"\n",
    "largest = (sorted(line.split())[-1])\n",
    "print(largest)"
   ]
  }
 ],
 "metadata": {
  "kernelspec": {
   "display_name": "Python 3",
   "language": "python",
   "name": "python3"
  },
  "language_info": {
   "codemirror_mode": {
    "name": "ipython",
    "version": 3
   },
   "file_extension": ".py",
   "mimetype": "text/x-python",
   "name": "python",
   "nbconvert_exporter": "python",
   "pygments_lexer": "ipython3",
   "version": "3.13.1"
  }
 },
 "nbformat": 4,
 "nbformat_minor": 2
}
