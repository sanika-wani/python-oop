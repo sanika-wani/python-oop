{
 "cells": [
  {
   "cell_type": "code",
   "execution_count": 2,
   "metadata": {},
   "outputs": [],
   "source": [
    "class Queue:\n",
    "    def create_Queue(self,size):\n",
    "        self.Maxsize=size\n",
    "        self.q=[]\n",
    "        for _ in range(size):\n",
    "            self.q.append(0)\n",
    "        self.front,self.rear=0,-1\n",
    "    def enqueue(self,element):\n",
    "        self.rear+=1#rear++\n",
    "        self.q[self.rear]=element\n",
    "        print(f\"{element} inserted on queue\")\n",
    "    def isFull(self):\n",
    "        if self.rear==self.Maxsize-1:\n",
    "            return True\n",
    "        else:\n",
    "            return False\n",
    "    def dequeue(self):\n",
    "        temp=self.q[self.front]#copy element at front\n",
    "        self.front+=1\n",
    "        return temp\n",
    "    def isEmpty(self):\n",
    "        if self.front>self.rear:\n",
    "            return True\n",
    "        else:\n",
    "            return False\n",
    "    def print_Queue(self):\n",
    "        #FIFO\n",
    "        for i in range(self.front,self.rear+1,1):\n",
    "            print(self.q[i],end='--')\n",
    "\n",
    "queue = Queue()\n",
    "while True:\n",
    "        print(\"\\nQueue Operations Menu:\")\n",
    "        print(\"1. Create Queue\")\n",
    "        print(\"2. Enqueue Element\")\n",
    "        print(\"3. Dequeue Element\")\n",
    "        print(\"4. Print Queue\")\n",
    "        print(\"0. Exit\")\n",
    "\n",
    "        choice = int(input(\"Enter your choice: \"))\n",
    "\n",
    "        if choice == 1:\n",
    "            size = int(input(\"Enter the size of the queue: \"))\n",
    "            queue.create_Queue(size)\n",
    "\n",
    "        elif choice == 2:\n",
    "            if queue.isFull()!=True:\n",
    "                element = int(input(\"Enter the element: \"))\n",
    "                queue.enqueue(element)\n",
    "            else:\n",
    "                print(\"Queue full\")\n",
    "\n",
    "        elif choice == 3:\n",
    "            if queue.isEmpty()!=True:\n",
    "                print(\"Element dequeued:\",queue.dequeue())\n",
    "            else:\n",
    "                print(\"Queue Empty\")\n",
    "\n",
    "        elif choice == 4:\n",
    "            if queue.isEmpty()!=True:\n",
    "                print(\"Queue has\")\n",
    "                queue.print_Queue()\n",
    "            else:\n",
    "                print(\"Queue Empty\")\n",
    "        elif choice==0:\n",
    "            print(\"Thanks for using the code ...\")\n",
    "            break\n",
    "        else:\n",
    "            print(\"Invalid choice! Please try again.\")\n",
    "\n"
   ]
  },
  {
   "cell_type": "code",
   "execution_count": null,
   "metadata": {},
   "outputs": [],
   "source": [
    "#reff to colab https://colab.research.google.com/drive/1B0UUDpid_iq8ZUzAffnRVH2LUopV_ZLl?usp=sharing#scrollTo=9usIToJIYSVf"
   ]
  },
  {
   "cell_type": "code",
   "execution_count": null,
   "metadata": {},
   "outputs": [],
   "source": [
    "class Queue:\n",
    "    def create_Queue(self):\n",
    "        self.q=[]\n",
    "\n",
    "    def enqueue(self,element):\n",
    "        self.q.append(element)\n",
    "        print(f\"{element} inserted on queue\")\n",
    "\n",
    "\n",
    "    def dequeue(self):\n",
    "        temp=self.q.pop(0)\n",
    "        return temp\n",
    "\n",
    "    def isEmpty(self):\n",
    "        if len(self.q)==0:\n",
    "            return True\n",
    "        else:\n",
    "            return False\n",
    "\n",
    "    def print_Queue(self):\n",
    "        #FIFO\n",
    "        print(self.q)\n",
    "\n",
    "queue = Queue()\n",
    "queue.create_Queue()\n",
    "while True:\n",
    "        print(\"\\nQueue Operations Menu:\")\n",
    "        print(\"1. Enqueue Element\")\n",
    "        print(\"2. Dequeue Element\")\n",
    "        print(\"3. Print Queue\")\n",
    "        print(\"0. Exit\")\n",
    "\n",
    "        choice = int(input(\"Enter your choice: \"))\n",
    "\n",
    "        if choice == 1:\n",
    "            element = int(input(\"Enter the element: \"))\n",
    "            queue.enqueue(element)\n",
    "\n",
    "        elif choice == 2:\n",
    "            if queue.isEmpty()!=True:\n",
    "                print(\"Element dequeued:\",queue.dequeue())\n",
    "            else:\n",
    "                print(\"Queue Empty\")\n",
    "\n",
    "        elif choice == 3:\n",
    "            if queue.isEmpty()!=True:\n",
    "                print(\"Queue has\")\n",
    "                queue.print_Queue()\n",
    "            else:\n",
    "                print(\"Queue Empty\")\n",
    "\n",
    "        elif choice==0:\n",
    "            print(\"Thanks for using the code ...\")\n",
    "            break\n",
    "        else:\n",
    "            print(\"Invalid choice! Please try again.\")\n",
    "\n"
   ]
  },
  {
   "cell_type": "code",
   "execution_count": 14,
   "metadata": {},
   "outputs": [
    {
     "name": "stdout",
     "output_type": "stream",
     "text": [
      "10\n",
      "10\n",
      "8\n",
      "6\n",
      "9\n"
     ]
    }
   ],
   "source": [
    "#sliding window : print max in each window\n",
    "q=[5,10,8,3,6,2,9]\n",
    "size=3\n",
    "\n",
    "for start in range(len(q)):\n",
    "        a=max(q[start:(start+size)])\n",
    "        end = start+size\n",
    "        if end==len(q)+1:\n",
    "                break\n",
    "        else:\n",
    "            print(a)\n",
    "    \n"
   ]
  },
  {
   "cell_type": "code",
   "execution_count": 15,
   "metadata": {},
   "outputs": [
    {
     "name": "stdout",
     "output_type": "stream",
     "text": [
      "[5, 10, 8] Max: 10\n",
      "[10, 8, 3] Max: 10\n",
      "[8, 3, 6] Max: 8\n",
      "[3, 6, 2] Max: 6\n",
      "[6, 2, 9] Max: 9\n"
     ]
    }
   ],
   "source": [
    "#implement sliding window to print max in each window\n",
    "#on queue given\n",
    "#size of window given by user\n",
    "q=[5,10,8,3,6,2,9]\n",
    "k=int(input(\"Enter size:\"))\n",
    "w_start=0\n",
    "w_end=w_start+k\n",
    "while w_end<=len(q):\n",
    "    print(q[w_start:w_end],\"Max:\",max(q[w_start:w_end]))\n",
    "    w_start+=1\n",
    "    w_end=w_start+k"
   ]
  },
  {
   "cell_type": "code",
   "execution_count": 20,
   "metadata": {},
   "outputs": [
    {
     "name": "stdout",
     "output_type": "stream",
     "text": [
      "added to bid list\n",
      "added to bid list\n",
      "added to bid list\n",
      "added to bid list\n"
     ]
    }
   ],
   "source": [
    "bid=[]\n",
    "while True:\n",
    "    value= input(\"enter bid\")\n",
    "    if value== \"\":\n",
    "        break\n",
    "    else:\n",
    "        bid.append(float(value))\n",
    "        print(\"added to bid list\")\n"
   ]
  },
  {
   "cell_type": "code",
   "execution_count": null,
   "metadata": {},
   "outputs": [],
   "source": []
  }
 ],
 "metadata": {
  "kernelspec": {
   "display_name": "Python 3",
   "language": "python",
   "name": "python3"
  },
  "language_info": {
   "codemirror_mode": {
    "name": "ipython",
    "version": 3
   },
   "file_extension": ".py",
   "mimetype": "text/x-python",
   "name": "python",
   "nbconvert_exporter": "python",
   "pygments_lexer": "ipython3",
   "version": "3.13.1"
  }
 },
 "nbformat": 4,
 "nbformat_minor": 2
}
